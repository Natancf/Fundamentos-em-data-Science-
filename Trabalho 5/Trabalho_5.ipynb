{
  "nbformat": 4,
  "nbformat_minor": 0,
  "metadata": {
    "colab": {
      "provenance": []
    },
    "kernelspec": {
      "name": "python3",
      "display_name": "Python 3"
    },
    "language_info": {
      "name": "python"
    }
  },
  "cells": [
    {
      "cell_type": "markdown",
      "source": [
        "# Trabalho 5\n"
      ],
      "metadata": {
        "id": "NTY-dRT4k90h"
      }
    },
    {
      "cell_type": "markdown",
      "source": [
        "### 1) Resumo das Técnicas de Imputação de Variáveis\n",
        "\n",
        "- **Média**: adequada para variáveis numéricas com distribuição simétrica e poucos outliers.\n",
        "- **Mediana**: preferida quando há outliers, pois é mais robusta.\n",
        "- **Moda**: usada para variáveis categóricas.\n",
        "- **Valor Fixo**: deve ser usado com cautela para não distorcer os dados.\n",
        "- **KNN**: considera a similaridade entre registros, útil quando há padrões não lineares.\n",
        "- **Regressão**: utiliza uma variável relacionada para prever o valor ausente.\n",
        "- **Múltipla Imputação**: gera várias versões dos dados e combina os resultados, sendo ideal para inferência estatística.\n"
      ],
      "metadata": {
        "id": "ZKitjLW3lHds"
      }
    },
    {
      "cell_type": "markdown",
      "source": [
        "###2)"
      ],
      "metadata": {
        "id": "EuEFsrsjlzga"
      }
    },
    {
      "cell_type": "code",
      "source": [
        "import pandas as pd\n",
        "import numpy as np\n",
        "from sklearn.impute import SimpleImputer\n",
        "from sklearn.linear_model import LinearRegression\n",
        "import matplotlib.pyplot as plt\n",
        "import seaborn as sns\n",
        "\n",
        "dados = pd.read_csv('/content/PimaIndiansDiabetes2.csv')\n",
        "\n",
        "print(\"Valores ausentes por coluna:\")\n",
        "print(dados.isnull().sum())"
      ],
      "metadata": {
        "colab": {
          "base_uri": "https://localhost:8080/"
        },
        "id": "-LuhipKOlRiA",
        "outputId": "eaacadbb-ad1d-48ba-d090-23e5e1799e3a"
      },
      "execution_count": null,
      "outputs": [
        {
          "output_type": "stream",
          "name": "stdout",
          "text": [
            "Valores ausentes por coluna:\n",
            "Unnamed: 0      0\n",
            "Diabetes        0\n",
            "pregnant        0\n",
            "glucose         5\n",
            "pressure       35\n",
            "triceps       227\n",
            "insulin       374\n",
            "mass           11\n",
            "pedigree        0\n",
            "age             0\n",
            "dtype: int64\n"
          ]
        }
      ]
    },
    {
      "cell_type": "code",
      "source": [
        "def verificar_outliers_em_variaveis(dados, colunas=None):\n",
        "    if colunas is None:\n",
        "        colunas = [\"glucose\", \"pressure\", \"mass\", \"insulin\", \"triceps\"]\n",
        "\n",
        "    resultados = {}\n",
        "\n",
        "    for coluna in colunas:\n",
        "        serie = dados[coluna].dropna()\n",
        "\n",
        "        # Cálculo do IQR\n",
        "        q1 = serie.quantile(0.25)\n",
        "        q3 = serie.quantile(0.75)\n",
        "        iqr = q3 - q1\n",
        "        limite_inferior = q1 - 1.5 * iqr\n",
        "        limite_superior = q3 + 1.5 * iqr\n",
        "\n",
        "        # Identifica outliers\n",
        "        outliers = serie[(serie < limite_inferior) | (serie > limite_superior)]\n",
        "        n_total = len(serie)\n",
        "        n_outliers = len(outliers)\n",
        "        perc = (n_outliers / n_total) * 100\n",
        "\n",
        "        resultados[coluna] = {\"total\": n_total, \"outliers\": n_outliers, \"percentual\": perc, \"recomendado\": \"mediana\" if n_outliers > 0 else \"média\"}\n",
        "\n",
        "        print(f\"{coluna}: {n_outliers} outliers de {n_total} valores válidos \"\n",
        "              f\"({perc:.1f}% dos dados) → sugerido: {resultados[coluna]['recomendado']}\")\n",
        "\n",
        "    return resultados\n",
        "\n",
        "resultados = verificar_outliers_em_variaveis(dados)"
      ],
      "metadata": {
        "colab": {
          "base_uri": "https://localhost:8080/"
        },
        "id": "HQL5DD5go6Z1",
        "outputId": "c60ec8c4-1841-4e94-9b66-5183fd7f4158"
      },
      "execution_count": null,
      "outputs": [
        {
          "output_type": "stream",
          "name": "stdout",
          "text": [
            "glucose: 0 outliers de 763 valores válidos (0.0% dos dados) → sugerido: média\n",
            "pressure: 14 outliers de 733 valores válidos (1.9% dos dados) → sugerido: mediana\n",
            "mass: 8 outliers de 757 valores válidos (1.1% dos dados) → sugerido: mediana\n",
            "insulin: 24 outliers de 394 valores válidos (6.1% dos dados) → sugerido: mediana\n",
            "triceps: 3 outliers de 541 valores válidos (0.6% dos dados) → sugerido: mediana\n"
          ]
        }
      ]
    },
    {
      "cell_type": "code",
      "source": [
        "dados_imputados = dados.copy()\n",
        "\n",
        "# Imputação pela mediana\n",
        "imputador_mediana = SimpleImputer(strategy=\"median\")\n",
        "dados_imputados[[\"pressure\", \"mass\", \"insulin\"]] = imputador_mediana.fit_transform(dados[[\"pressure\", \"mass\", \"insulin\"]])\n",
        "\n",
        "# Imputação pela média\n",
        "imputador_media = SimpleImputer(strategy=\"mean\")\n",
        "dados_imputados[[\"glucose\"]] = imputador_media.fit_transform(dados[[\"glucose\"]])\n",
        "\n",
        "# Imputação por regressão para dobra do tríceps com base em mass\n",
        "triceps_dados = dados[[\"triceps\"]].copy()\n",
        "triceps_dados[\"mass\"] = dados_imputados[\"mass\"]\n",
        "treino_triceps = triceps_dados.dropna()\n",
        "prever_triceps = triceps_dados[triceps_dados[\"triceps\"].isna()]\n",
        "modelo_triceps = LinearRegression()\n",
        "modelo_triceps.fit(treino_triceps[[\"mass\"]], treino_triceps[\"triceps\"])\n",
        "dados_imputados.loc[dados[\"triceps\"].isna(), \"triceps\"] = modelo_triceps.predict(prever_triceps[[\"mass\"]])\n",
        "\n",
        "# Estatísticas antes e depois da imputação\n",
        "antes = dados.describe()\n",
        "depois = dados_imputados.describe()\n",
        "\n",
        "print(\"\\nEstatísticas antes da imputação:\")\n",
        "print(antes)\n",
        "\n",
        "print(\"\\nEstatísticas depois da imputação:\")\n",
        "print(depois)\n"
      ],
      "metadata": {
        "colab": {
          "base_uri": "https://localhost:8080/"
        },
        "id": "3tNYDQ1ZmAi_",
        "outputId": "989be3da-9dd8-462d-d049-45b6440c83c8"
      },
      "execution_count": null,
      "outputs": [
        {
          "output_type": "stream",
          "name": "stdout",
          "text": [
            "\n",
            "Estatísticas antes da imputação:\n",
            "       Unnamed: 0    Diabetes    pregnant     glucose    pressure     triceps  \\\n",
            "count  768.000000  768.000000  768.000000  763.000000  733.000000  541.000000   \n",
            "mean   384.500000    0.348958    3.845052  121.686763   72.405184   29.153420   \n",
            "std    221.846794    0.476951    3.369578   30.535641   12.382158   10.476982   \n",
            "min      1.000000    0.000000    0.000000   44.000000   24.000000    7.000000   \n",
            "25%    192.750000    0.000000    1.000000   99.000000   64.000000   22.000000   \n",
            "50%    384.500000    0.000000    3.000000  117.000000   72.000000   29.000000   \n",
            "75%    576.250000    1.000000    6.000000  141.000000   80.000000   36.000000   \n",
            "max    768.000000    1.000000   17.000000  199.000000  122.000000   99.000000   \n",
            "\n",
            "          insulin        mass     pedigree         age  \n",
            "count  394.000000  757.000000   768.000000  768.000000  \n",
            "mean   155.548223   32.457464   428.235091   33.240885  \n",
            "std    118.775855    6.924988   340.485655   11.760232  \n",
            "min     14.000000   18.200000     0.100000   21.000000  \n",
            "25%     76.250000   27.500000   205.000000   24.000000  \n",
            "50%    125.000000   32.300000   337.000000   29.000000  \n",
            "75%    190.000000   36.600000   591.500000   41.000000  \n",
            "max    846.000000   67.100000  2329.000000   81.000000  \n",
            "\n",
            "Estatísticas depois da imputação:\n",
            "       Unnamed: 0    Diabetes    pregnant     glucose    pressure     triceps  \\\n",
            "count  768.000000  768.000000  768.000000  768.000000  768.000000  768.000000   \n",
            "mean   384.500000    0.348958    3.845052  121.686763   72.386719   28.719593   \n",
            "std    221.846794    0.476951    3.369578   30.435949   12.096642    9.546506   \n",
            "min      1.000000    0.000000    0.000000   44.000000   24.000000    7.000000   \n",
            "25%    192.750000    0.000000    1.000000   99.750000   64.000000   22.000000   \n",
            "50%    384.500000    0.000000    3.000000  117.000000   72.000000   28.417515   \n",
            "75%    576.250000    1.000000    6.000000  140.250000   80.000000   35.000000   \n",
            "max    768.000000    1.000000   17.000000  199.000000  122.000000   99.000000   \n",
            "\n",
            "          insulin        mass     pedigree         age  \n",
            "count  768.000000  768.000000   768.000000  768.000000  \n",
            "mean   140.671875   32.455208   428.235091   33.240885  \n",
            "std     86.383060    6.875177   340.485655   11.760232  \n",
            "min     14.000000   18.200000     0.100000   21.000000  \n",
            "25%    121.500000   27.500000   205.000000   24.000000  \n",
            "50%    125.000000   32.300000   337.000000   29.000000  \n",
            "75%    127.250000   36.600000   591.500000   41.000000  \n",
            "max    846.000000   67.100000  2329.000000   81.000000  \n"
          ]
        }
      ]
    },
    {
      "cell_type": "code",
      "source": [
        "variaveis_para_comparar = [\"glucose\", \"pressure\", \"triceps\", \"insulin\", \"mass\"]\n",
        "\n",
        "for variavel in variaveis_para_comparar:\n",
        "    plt.figure(figsize=(10, 4))\n",
        "    sns.kdeplot(dados[variavel], label='Antes', fill=True)\n",
        "    sns.kdeplot(dados_imputados[variavel], label='Depois', fill=True)\n",
        "    plt.title(f\"Distribuição da variável \\\"{variavel}\\\" antes e depois da imputação\")\n",
        "    plt.legend()\n",
        "    plt.show()\n"
      ],
      "metadata": {
        "collapsed": true,
        "id": "lPZGHNKSxpjr"
      },
      "execution_count": null,
      "outputs": []
    },
    {
      "cell_type": "markdown",
      "source": [
        "**glucose (concentração de glicose):**\n",
        "\n",
        "* Não há outliers\n",
        "* Técnica sugerida: média\n",
        "* Justificativa: Como não foram detectados outliers, a média é apropriada para representar a tendência central, pois mantém a variabilidade natural dos dados.\n",
        "\n",
        "---\n",
        "\n",
        "**pressure (pressão arterial):**\n",
        "\n",
        "* Há outliers\n",
        "* Técnica sugerida: mediana\n",
        "* Justificativa: Apesar da distribuição relativamente simétrica, a presença de alguns outliers recomenda o uso da mediana, que é mais robusta e evita distorções causadas por valores extremos.\n",
        "\n",
        "---\n",
        "\n",
        "**mass (IMC):**\n",
        "\n",
        "* Há outliers\n",
        "* Técnica sugerida: mediana\n",
        "* Justificativa: Presença de outliers justifica o uso da mediana para minimizar o impacto desses valores extremos e preservar a tendência central.\n",
        "\n",
        "---\n",
        "\n",
        "**insulin (nível de insulina):**\n",
        "\n",
        "* Há outliers\n",
        "* Técnica sugerida: mediana\n",
        "* Justificativa: Com alta proporção de valores ausentes (\\~49%) e diversos outliers, a mediana é mais segura para evitar viés e distorções que um modelo de regressão poderia causar com dados escassos.\n",
        "\n",
        "---\n",
        "\n",
        "**triceps (espessura da prega cutânea do tríceps):**\n",
        "\n",
        "* Há outliers\n",
        "* Técnica sugerida: mediana com regressão linear usando mass\n",
        "* Justificativa: Embora poucos outliers estejam presentes, existe uma correlação fisiológica entre o IMC e a espessura da prega cutânea, permitindo prever valores ausentes com um modelo de regressão linear baseado em mass, garantindo melhor estimativa.\n",
        "\n",
        "---"
      ],
      "metadata": {
        "id": "qCnGFc8is96s"
      }
    },
    {
      "cell_type": "markdown",
      "source": [
        "\n",
        "\n"
      ],
      "metadata": {
        "id": "uPSyxZTOyyrz"
      }
    }
  ]
}