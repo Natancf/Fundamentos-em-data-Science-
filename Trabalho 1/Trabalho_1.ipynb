{
  "nbformat": 4,
  "nbformat_minor": 0,
  "metadata": {
    "colab": {
      "provenance": []
    },
    "kernelspec": {
      "name": "python3",
      "display_name": "Python 3"
    },
    "language_info": {
      "name": "python"
    }
  },
  "cells": [
    {
      "cell_type": "markdown",
      "source": [
        "#1. Escreva um código em Python para calcular e exibir:\n",
        "\n"
      ],
      "metadata": {
        "id": "1PRTzzu7loc1"
      }
    },
    {
      "cell_type": "markdown",
      "source": [
        "#####(a) A soma dos números de 1 a 100."
      ],
      "metadata": {
        "id": "lHHM1fv2n2v0"
      }
    },
    {
      "cell_type": "code",
      "source": [
        "soma = 0\n",
        "for i in range(1,101,1):\n",
        "  soma += i\n",
        "print(soma)"
      ],
      "metadata": {
        "colab": {
          "base_uri": "https://localhost:8080/"
        },
        "id": "gax_e8ZxlyQG",
        "outputId": "b6ca80f3-a1f6-4393-fb1d-6b18b3a900da"
      },
      "execution_count": null,
      "outputs": [
        {
          "output_type": "stream",
          "name": "stdout",
          "text": [
            "5050\n"
          ]
        }
      ]
    },
    {
      "cell_type": "markdown",
      "source": [
        "#####(b) O perímetro de um círculo de raio 5, utilizando a fórmula P = 2πr."
      ],
      "metadata": {
        "id": "4TXKJolOoNN8"
      }
    },
    {
      "cell_type": "code",
      "source": [
        "import math\n",
        "\n",
        "print(f\"O perímetro de um círculo de raio 5 é {2*math.pi*5:.2f}\")"
      ],
      "metadata": {
        "colab": {
          "base_uri": "https://localhost:8080/"
        },
        "id": "ERJR3tztnwld",
        "outputId": "8167eecc-05eb-4eaf-bd1c-58ab2b56b7dd"
      },
      "execution_count": null,
      "outputs": [
        {
          "output_type": "stream",
          "name": "stdout",
          "text": [
            "O perímetro de um círculo de raio 5 é 31.42\n"
          ]
        }
      ]
    },
    {
      "cell_type": "markdown",
      "source": [
        "##### (c) O fatorial de 6 sem utilizar bibliotecas externas.\n"
      ],
      "metadata": {
        "id": "rXYa1bo9oQO6"
      }
    },
    {
      "cell_type": "code",
      "source": [
        "fatorial = 1\n",
        "for i in range(6,0,-1):\n",
        "  fatorial *= i\n",
        "print(fatorial)"
      ],
      "metadata": {
        "colab": {
          "base_uri": "https://localhost:8080/"
        },
        "id": "ubB3f8h8oRx7",
        "outputId": "b2bde398-a9a3-4e05-85ad-47688122c626"
      },
      "execution_count": null,
      "outputs": [
        {
          "output_type": "stream",
          "name": "stdout",
          "text": [
            "720\n"
          ]
        }
      ]
    },
    {
      "cell_type": "markdown",
      "source": [
        " ##### (d) A área de um triângulo, utilizando uma função.\n"
      ],
      "metadata": {
        "id": "zTwiVXmHoSNQ"
      }
    },
    {
      "cell_type": "code",
      "source": [
        "# Valores de entrada dos quatro lados do triângulo\n",
        "a, b, c = list(map(int, input(\"Digite o valor dos lados do triângulo separados por espaço \").split()))\n",
        "\n",
        "# Verifica se os triângulos são validos\n",
        "while True:\n",
        "  if((a+b>c) and (a+c>b) and (c+b>a)):\n",
        "    break\n",
        "  else:\n",
        "    print(\"Erro! Esses valores não formam um triângulo tente outros \")\n",
        "    a, b, c = list(map(int, input(\"Digite o valor dos lados do triângulo separados por espaço \").split()))\n",
        "\n",
        "\n",
        "# Cálculo da área do triangulo pela fórmula de Heron\n",
        "def area_triangulo(a, b, c):\n",
        "  p = (a + b + c) / 2 # p é o semi-perímetro do triângulo\n",
        "  Area = (p*(p-a)*(p-b)*(p-c))**0.5\n",
        "  return Area\n",
        "\n",
        "print(f\"A área do triângulo é {area_triangulo(a,b,c):.2f}\")\n",
        "\n"
      ],
      "metadata": {
        "colab": {
          "base_uri": "https://localhost:8080/"
        },
        "id": "NPXJE9S9oS_x",
        "outputId": "64549d05-d10d-4f7f-a9f7-2725b231f772"
      },
      "execution_count": null,
      "outputs": [
        {
          "output_type": "stream",
          "name": "stdout",
          "text": [
            "Digite o valor dos lados do triângulo separados por espaço 2 4 20\n",
            "Erro! Esses valores não formam um triângulo tente outros \n",
            "Digite o valor dos lados do triângulo separados por espaço 10 10 12\n",
            "A área do triângulo é 48.00\n"
          ]
        }
      ]
    },
    {
      "cell_type": "markdown",
      "source": [
        "#2. Definição de Variáveis e Impressão em Python:\n"
      ],
      "metadata": {
        "id": "QaRS6INxyJ_s"
      }
    },
    {
      "cell_type": "markdown",
      "source": [
        "##### (a) Defina três variáveis: um número inteiro, um decimal e uma palavra."
      ],
      "metadata": {
        "id": "RM02P_DPyZUz"
      }
    },
    {
      "cell_type": "code",
      "source": [
        "# Entrada dos números\n",
        "numero1, numero2 = list(map(int, input(\"Digite dois números separados por espaço \").split()))\n",
        "\n",
        "# Entrada da palavra\n",
        "palavra = input(\"digite uma palavra \")"
      ],
      "metadata": {
        "colab": {
          "base_uri": "https://localhost:8080/"
        },
        "id": "sf48W_ZWyjo_",
        "outputId": "1d048558-83a5-49b7-c32d-0d6f286d0a1a"
      },
      "execution_count": null,
      "outputs": [
        {
          "name": "stdout",
          "output_type": "stream",
          "text": [
            "Digite dois números separados por espaço 5 6\n",
            "digite uma palavra Olá\n"
          ]
        }
      ]
    },
    {
      "cell_type": "markdown",
      "source": [
        "##### (b) Realize e imprima os resultados das operações: soma e multiplicação entre os números.\n"
      ],
      "metadata": {
        "id": "oU561Bt6ykBp"
      }
    },
    {
      "cell_type": "code",
      "source": [
        "print(f\"\"\"\n",
        "{numero1} + {numero2} = {numero1+numero2} \\n\n",
        "{numero1} * {numero2} = {numero1*numero2}\n",
        "\"\"\")\n"
      ],
      "metadata": {
        "colab": {
          "base_uri": "https://localhost:8080/"
        },
        "id": "pYlWVz5mynwE",
        "outputId": "a6affa5c-bf62-462a-cea7-6c26b262ed91"
      },
      "execution_count": null,
      "outputs": [
        {
          "output_type": "stream",
          "name": "stdout",
          "text": [
            "\n",
            "5 + 6 = 11 \n",
            "\n",
            "5 * 6 = 30\n",
            "\n"
          ]
        }
      ]
    },
    {
      "cell_type": "markdown",
      "source": [
        "##### (c) Exiba a frase ‘A palavra escolhida foi X‘, onde X corresponde ao valor da variável de texto definida no item (a)."
      ],
      "metadata": {
        "id": "AgA73M8PyoW0"
      }
    },
    {
      "cell_type": "code",
      "source": [
        "print(f\"A palavra escolhida foi {palavra}\")"
      ],
      "metadata": {
        "colab": {
          "base_uri": "https://localhost:8080/"
        },
        "id": "dSzbl-K1yr99",
        "outputId": "e6701dc8-3074-496d-e521-2e979454f2db"
      },
      "execution_count": null,
      "outputs": [
        {
          "output_type": "stream",
          "name": "stdout",
          "text": [
            "A palavra escolhida foi Olá\n"
          ]
        }
      ]
    },
    {
      "cell_type": "markdown",
      "source": [
        " # 3. Operações Matemáticas e Tratamento de Erros em Python:\n"
      ],
      "metadata": {
        "id": "BIKohPaO1p7S"
      }
    },
    {
      "cell_type": "markdown",
      "source": [
        "\n",
        " ##### (a) Crie um programa que solicite dois números ao usuário e realize as quatro operações básicas."
      ],
      "metadata": {
        "id": "_NlD6AG01v2j"
      }
    },
    {
      "cell_type": "code",
      "source": [
        "n1, n2 = list(map(int, input().split()))\n",
        "\n",
        "print(f\"\"\"\n",
        "Soma: {n1} + {n2} = {n1+n2}\n",
        "Subtração: {n1} - {n2} = {n1-n2}\n",
        "Multiplicação: {n1} × {n2} = {n1*n2}\n",
        "Divisão: {n1} ÷ {n2} = {n1/n2}\n",
        "\"\"\")"
      ],
      "metadata": {
        "colab": {
          "base_uri": "https://localhost:8080/"
        },
        "id": "dw9doPlm1zmH",
        "outputId": "270e00ee-6144-4e81-bda9-a26f360b8795"
      },
      "execution_count": null,
      "outputs": [
        {
          "output_type": "stream",
          "name": "stdout",
          "text": [
            "10 5\n",
            "\n",
            "Soma: 10 + 5 = 15\n",
            "Subtração: 10 - 5 = 5\n",
            "Multiplicação: 10 × 5 = 50\n",
            "Divisão: 10 ÷ 5 = 2.0\n",
            "\n"
          ]
        }
      ]
    },
    {
      "cell_type": "markdown",
      "source": [
        "##### (b) Modifique o código para evitar erro de divisão por zero, exibindo uma mensagem apropriada."
      ],
      "metadata": {
        "id": "PzU3_T0R1z2E"
      }
    },
    {
      "cell_type": "code",
      "source": [
        "try:\n",
        "  n1, n2 = list(map(int, input().split()))\n",
        "  Soma = n1 + n2\n",
        "  Subtração = n1 - n2\n",
        "  Multiplicação = n1 * n2\n",
        "  Divisão = n1 / n2\n",
        "\n",
        "  print(f\"\"\"\n",
        "  Soma: {n1} + {n2} = {Soma}\n",
        "  Subtração: {n1} - {n2} = {Subtração}\n",
        "  Multiplicação: {n1} × {n2} = {Multiplicação}\n",
        "  Divisão: {n1} ÷ {n2} = {Divisão}\n",
        "  \"\"\")\n",
        "\n",
        "except ZeroDivisionError:\n",
        "    print(\"Erro: Não existe Divisão por zero!\")"
      ],
      "metadata": {
        "colab": {
          "base_uri": "https://localhost:8080/"
        },
        "id": "yaTMgGlp11ga",
        "outputId": "2a37f61a-0f95-49d3-be42-fa9f337d46a8"
      },
      "execution_count": null,
      "outputs": [
        {
          "output_type": "stream",
          "name": "stdout",
          "text": [
            "10 5\n",
            "\n",
            "  Soma: 10 + 5 = 15\n",
            "  Subtração: 10 - 5 = 5\n",
            "  Multiplicação: 10 × 5 = 50\n",
            "  Divisão: 10 ÷ 5 = 2.0\n",
            "  \n"
          ]
        }
      ]
    },
    {
      "cell_type": "markdown",
      "source": [
        " # 4. Validação de Entrada e Cálculos em Python:\n"
      ],
      "metadata": {
        "id": "IAkY1Ti85wuo"
      }
    },
    {
      "cell_type": "markdown",
      "source": [
        "##### (a) Crie um programa que solicite um número ao usuário e valide se ele é um inteiro positivo.\n",
        "##### (b) Se o valor inserido for válido, calcule e exiba o quadrado desse número. Se o valor inserido não for um inteiro positivo, exiba uma mensagem informando que a entrada é inválida.\n"
      ],
      "metadata": {
        "id": "ORmv4ebe52Hf"
      }
    },
    {
      "cell_type": "code",
      "source": [
        "while True:\n",
        "  n = float(input(\"Digite um número inteiro positivo \"))\n",
        "  if(n%1 == 0 and n > 0):\n",
        "    print(int(n**2))\n",
        "    break\n",
        "  else:\n",
        "    print(\"Entrada invalida, o número digitado não é um inteiro positivo\")"
      ],
      "metadata": {
        "colab": {
          "base_uri": "https://localhost:8080/"
        },
        "id": "R8q_hnw354bn",
        "outputId": "4600ba3e-7d42-4390-d6f2-2cdca69a9284"
      },
      "execution_count": null,
      "outputs": [
        {
          "output_type": "stream",
          "name": "stdout",
          "text": [
            "Digite um número inteiro positivo -2\n",
            "Entrada invalida, o número digitado não é um inteiro positivo\n",
            "Digite um número inteiro positivo -1.5\n",
            "Entrada invalida, o número digitado não é um inteiro positivo\n",
            "Digite um número inteiro positivo 0\n",
            "Entrada invalida, o número digitado não é um inteiro positivo\n",
            "Digite um número inteiro positivo 1.5\n",
            "Entrada invalida, o número digitado não é um inteiro positivo\n",
            "Digite um número inteiro positivo 2\n",
            "4\n"
          ]
        }
      ]
    }
  ]
}